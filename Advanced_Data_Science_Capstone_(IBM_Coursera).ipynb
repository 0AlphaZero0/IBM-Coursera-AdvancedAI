{
  "nbformat": 4,
  "nbformat_minor": 0,
  "metadata": {
    "colab": {
      "name": "Advanced Data Science Capstone (IBM-Coursera)",
      "provenance": [],
      "authorship_tag": "ABX9TyNqiyLGBq9whVSx5nYyVqRn",
      "include_colab_link": true
    },
    "kernelspec": {
      "name": "python3",
      "display_name": "Python 3"
    },
    "language_info": {
      "name": "python"
    }
  },
  "cells": [
    {
      "cell_type": "markdown",
      "metadata": {
        "id": "view-in-github",
        "colab_type": "text"
      },
      "source": [
        "<a href=\"https://colab.research.google.com/github/0AlphaZero0/IBM-Coursera-AdvancedAI/blob/master/Advanced_Data_Science_Capstone_(IBM_Coursera).ipynb\" target=\"_parent\"><img src=\"https://colab.research.google.com/assets/colab-badge.svg\" alt=\"Open In Colab\"/></a>"
      ]
    },
    {
      "cell_type": "markdown",
      "metadata": {
        "id": "iWIPeyefLwVb"
      },
      "source": [
        ""
      ]
    },
    {
      "cell_type": "markdown",
      "metadata": {
        "id": "plK6HZNELF9F"
      },
      "source": [
        ""
      ]
    },
    {
      "cell_type": "code",
      "metadata": {
        "id": "OUzwCYg-LHHj"
      },
      "source": [
        ""
      ],
      "execution_count": null,
      "outputs": []
    },
    {
      "cell_type": "markdown",
      "metadata": {
        "id": "wd_M5iuXLF22"
      },
      "source": [
        "## Setup"
      ]
    },
    {
      "cell_type": "markdown",
      "metadata": {
        "id": "zYCqYzvgLMU6"
      },
      "source": [
        "### Kaggle"
      ]
    },
    {
      "cell_type": "code",
      "metadata": {
        "colab": {
          "base_uri": "https://localhost:8080/"
        },
        "id": "qzoz3F8uLLf6",
        "outputId": "c5ce24d1-c787-4684-d86f-be254ed1391f"
      },
      "source": [
        "!pip install kaggle"
      ],
      "execution_count": 1,
      "outputs": [
        {
          "output_type": "stream",
          "name": "stdout",
          "text": [
            "Requirement already satisfied: kaggle in /usr/local/lib/python3.7/dist-packages (1.5.12)\n",
            "Requirement already satisfied: requests in /usr/local/lib/python3.7/dist-packages (from kaggle) (2.23.0)\n",
            "Requirement already satisfied: six>=1.10 in /usr/local/lib/python3.7/dist-packages (from kaggle) (1.15.0)\n",
            "Requirement already satisfied: certifi in /usr/local/lib/python3.7/dist-packages (from kaggle) (2021.5.30)\n",
            "Requirement already satisfied: tqdm in /usr/local/lib/python3.7/dist-packages (from kaggle) (4.62.0)\n",
            "Requirement already satisfied: python-slugify in /usr/local/lib/python3.7/dist-packages (from kaggle) (5.0.2)\n",
            "Requirement already satisfied: urllib3 in /usr/local/lib/python3.7/dist-packages (from kaggle) (1.24.3)\n",
            "Requirement already satisfied: python-dateutil in /usr/local/lib/python3.7/dist-packages (from kaggle) (2.8.2)\n",
            "Requirement already satisfied: text-unidecode>=1.3 in /usr/local/lib/python3.7/dist-packages (from python-slugify->kaggle) (1.3)\n",
            "Requirement already satisfied: idna<3,>=2.5 in /usr/local/lib/python3.7/dist-packages (from requests->kaggle) (2.10)\n",
            "Requirement already satisfied: chardet<4,>=3.0.2 in /usr/local/lib/python3.7/dist-packages (from requests->kaggle) (3.0.4)\n"
          ]
        }
      ]
    },
    {
      "cell_type": "code",
      "metadata": {
        "colab": {
          "base_uri": "https://localhost:8080/"
        },
        "id": "Zdh0F40tLG5D",
        "outputId": "01a71c76-1f7f-4f94-e0e5-78144e51dc18"
      },
      "source": [
        "from google.colab import drive\n",
        "drive.mount('/content/gdrive')"
      ],
      "execution_count": 2,
      "outputs": [
        {
          "output_type": "stream",
          "name": "stdout",
          "text": [
            "Drive already mounted at /content/gdrive; to attempt to forcibly remount, call drive.mount(\"/content/gdrive\", force_remount=True).\n"
          ]
        }
      ]
    },
    {
      "cell_type": "code",
      "metadata": {
        "id": "bGua7vNNLSrF"
      },
      "source": [
        "!cp '/content/gdrive/My Drive/Credentials/kaggle.json' 'kaggle.json'"
      ],
      "execution_count": 3,
      "outputs": []
    },
    {
      "cell_type": "code",
      "metadata": {
        "colab": {
          "base_uri": "https://localhost:8080/"
        },
        "id": "0rG_pI1eLUSG",
        "outputId": "b002a8dc-8a59-49c1-9cbe-0469ccbbf197"
      },
      "source": [
        "!mkdir -p ~/.kaggle\n",
        "!cp kaggle.json ~/.kaggle/\n",
        "!ls ~/.kaggle\n",
        "!chmod 600 /root/.kaggle/kaggle.json  # set permission"
      ],
      "execution_count": 4,
      "outputs": [
        {
          "output_type": "stream",
          "name": "stdout",
          "text": [
            "kaggle.json\n"
          ]
        }
      ]
    },
    {
      "cell_type": "markdown",
      "metadata": {
        "id": "35_u_j6piRqM"
      },
      "source": [
        "### Spark"
      ]
    },
    {
      "cell_type": "code",
      "metadata": {
        "colab": {
          "base_uri": "https://localhost:8080/"
        },
        "id": "2Q0IJAlQiT5m",
        "outputId": "6c127be0-9664-4d25-c7a8-8e3f0bfbc0a9"
      },
      "source": [
        "!pip install --upgrade --force-reinstall pyspark"
      ],
      "execution_count": 5,
      "outputs": [
        {
          "output_type": "stream",
          "name": "stdout",
          "text": [
            "Collecting pyspark\n",
            "  Using cached pyspark-3.1.2-py2.py3-none-any.whl\n",
            "Collecting py4j==0.10.9\n",
            "  Using cached py4j-0.10.9-py2.py3-none-any.whl (198 kB)\n",
            "Installing collected packages: py4j, pyspark\n",
            "  Attempting uninstall: py4j\n",
            "    Found existing installation: py4j 0.10.9\n",
            "    Uninstalling py4j-0.10.9:\n",
            "      Successfully uninstalled py4j-0.10.9\n",
            "  Attempting uninstall: pyspark\n",
            "    Found existing installation: pyspark 3.1.2\n",
            "    Uninstalling pyspark-3.1.2:\n",
            "      Successfully uninstalled pyspark-3.1.2\n",
            "Successfully installed py4j-0.10.9 pyspark-3.1.2\n"
          ]
        }
      ]
    },
    {
      "cell_type": "markdown",
      "metadata": {
        "id": "NzDtPkQzLFw-"
      },
      "source": [
        "## Dataset"
      ]
    },
    {
      "cell_type": "code",
      "metadata": {
        "colab": {
          "base_uri": "https://localhost:8080/"
        },
        "id": "_8SJbOQaKrR6",
        "outputId": "dfa836d1-a40d-4f45-d192-e6340f1478b3"
      },
      "source": [
        "!kaggle datasets download -d clmentbisaillon/fake-and-real-news-dataset\n",
        "!mkdir fakenews\n",
        "!unzip fake-and-real-news-dataset.zip -d fakenews/\n",
        "!rm fake-and-real-news-dataset.zip"
      ],
      "execution_count": 6,
      "outputs": [
        {
          "output_type": "stream",
          "name": "stdout",
          "text": [
            "Downloading fake-and-real-news-dataset.zip to /content\n",
            "100% 41.0M/41.0M [00:00<00:00, 129MB/s]\n",
            "\n",
            "mkdir: cannot create directory ‘fakenews’: File exists\n",
            "Archive:  fake-and-real-news-dataset.zip\n",
            "replace fakenews/Fake.csv? [y]es, [n]o, [A]ll, [N]one, [r]ename: n\n",
            "replace fakenews/True.csv? [y]es, [n]o, [A]ll, [N]one, [r]ename: n\n"
          ]
        }
      ]
    },
    {
      "cell_type": "code",
      "metadata": {
        "id": "1BAOFKKdOSyv"
      },
      "source": [
        "import numpy as np\n",
        "import pandas as pd\n",
        "\n",
        "from pyspark.sql import SparkSession\n",
        "import pyspark.sql.functions as F\n",
        "import pyspark.sql.types as T\n",
        "from pyspark.sql.functions import col,lit,to_date"
      ],
      "execution_count": 7,
      "outputs": []
    },
    {
      "cell_type": "code",
      "metadata": {
        "id": "u4KFJ-IdhPiK"
      },
      "source": [
        "spark = (SparkSession.builder\n",
        "                  .appName('Fake news detector')\n",
        "                  .enableHiveSupport()\n",
        "                  .config(\"spark.executor.memory\", \"4G\")\n",
        "                  .config(\"spark.driver.memory\",\"18G\")\n",
        "                  .config(\"spark.executor.cores\",\"7\")\n",
        "                  .config(\"spark.python.worker.memory\",\"4G\")\n",
        "                  .config(\"spark.driver.maxResultSize\",\"0\")\n",
        "                  .config(\"spark.sql.crossJoin.enabled\", \"true\")\n",
        "                  .config(\"spark.serializer\",\"org.apache.spark.serializer.KryoSerializer\")\n",
        "                  .config(\"spark.default.parallelism\",\"2\")\n",
        "                  .getOrCreate())"
      ],
      "execution_count": 8,
      "outputs": []
    },
    {
      "cell_type": "code",
      "metadata": {
        "id": "nwm7W-LGhVSX"
      },
      "source": [
        "spark.sparkContext.setLogLevel('INFO')"
      ],
      "execution_count": 9,
      "outputs": []
    },
    {
      "cell_type": "code",
      "metadata": {
        "colab": {
          "base_uri": "https://localhost:8080/"
        },
        "id": "crJYduCphW6r",
        "outputId": "59c51b2a-dd93-4aa4-cae9-5ec0dd251613"
      },
      "source": [
        "df_true = spark.read.csv('./fakenews/True.csv',header=True)\n",
        "df_true = df_true.withColumn(\"Label\",lit(\"True\"))\n",
        "print(\"There are\",df_true.count(),\"rows in the True dataset.\")\n",
        "df_false = spark.read.csv('./fakenews/Fake.csv',header=True)\n",
        "df_false = df_false.withColumn(\"Label\",lit(\"False\"))\n",
        "print(\"There are\",df_false.count(),\"rows in the False dataset.\")\n",
        "\n",
        "df = df_true.union(df_false)\n",
        "df = df.withColumn(\"Datetime\",to_date(df.date,\"MMMM dd, YYYY\"))\n",
        "df = df.drop(\"date\")\n",
        "count = df.count()\n",
        "print(\"In total, there are\",count,\"rows in the whole dataset.\")\n",
        "\n",
        "columns = ['text','title']\n",
        "df = df.na.drop(subset=columns)\n",
        "print(count-df.count(),\"rows has been deleted because of Nan values in columns : \"+\" and \".join(columns),\"=>\",df.count(),\"rows in the dataset\")\n",
        "\n",
        "# df.show()"
      ],
      "execution_count": 10,
      "outputs": [
        {
          "output_type": "stream",
          "name": "stdout",
          "text": [
            "There are 21417 rows in the True dataset.\n",
            "There are 23489 rows in the False dataset.\n",
            "In total, there are 44906 rows in the whole dataset.\n",
            "8 rows has been deleted because of Nan values in columns : text and title => 44898 rows in the dataset\n"
          ]
        }
      ]
    },
    {
      "cell_type": "code",
      "metadata": {
        "colab": {
          "base_uri": "https://localhost:8080/"
        },
        "id": "uEx5uakni-Yo",
        "outputId": "007ca116-2f28-48be-ec7a-3f988167d114"
      },
      "source": [
        "df.printSchema()"
      ],
      "execution_count": 11,
      "outputs": [
        {
          "output_type": "stream",
          "name": "stdout",
          "text": [
            "root\n",
            " |-- title: string (nullable = true)\n",
            " |-- text: string (nullable = true)\n",
            " |-- subject: string (nullable = true)\n",
            " |-- Label: string (nullable = false)\n",
            " |-- Datetime: date (nullable = true)\n",
            "\n"
          ]
        }
      ]
    },
    {
      "cell_type": "code",
      "metadata": {
        "colab": {
          "base_uri": "https://localhost:8080/"
        },
        "id": "u9oB6x2DljVw",
        "outputId": "fd5cf63d-a3a9-4897-b1fa-7a2328134297"
      },
      "source": [
        "df_tmp = df.groupBy('subject').count().where(\"count>500\")\n",
        "df_tmp = df_tmp.sort(df_tmp['count'].desc())\n",
        "\n",
        "df_tmp.show()\n",
        "\n"
      ],
      "execution_count": 12,
      "outputs": [
        {
          "output_type": "stream",
          "name": "stdout",
          "text": [
            "+---------------+-----+\n",
            "|        subject|count|\n",
            "+---------------+-----+\n",
            "|   politicsNews|11209|\n",
            "|      worldnews|10115|\n",
            "|           News| 8501|\n",
            "|       politics| 6525|\n",
            "|      left-news| 4216|\n",
            "|Government News| 1543|\n",
            "|        US_News|  767|\n",
            "|    Middle-east|  762|\n",
            "+---------------+-----+\n",
            "\n"
          ]
        }
      ]
    },
    {
      "cell_type": "code",
      "metadata": {
        "colab": {
          "base_uri": "https://localhost:8080/"
        },
        "id": "uWijOegwra1v",
        "outputId": "47f0f856-9310-40e4-f2ce-29df7308827b"
      },
      "source": [
        "# Remove corrupted subjects\n",
        "count = df.count()\n",
        "subjects = [str(x.subject) for x in df_tmp.select('subject').collect()]\n",
        "res_df = df.where(df.subject.isin(subjects))\n",
        "    \n",
        "print(count-res_df.count(),\"rows has been deleted because of corrupted subjects =>\",res_df.count(),\"rows in the dataset\")"
      ],
      "execution_count": 13,
      "outputs": [
        {
          "output_type": "stream",
          "name": "stdout",
          "text": [
            "1260 rows has been deleted because of corrupted subjects => 43638 rows in the dataset\n"
          ]
        }
      ]
    },
    {
      "cell_type": "code",
      "metadata": {
        "id": "W2kTfB4LEbjH"
      },
      "source": [
        "df = res_df"
      ],
      "execution_count": 14,
      "outputs": []
    },
    {
      "cell_type": "markdown",
      "metadata": {
        "id": "Var_vcYfKl5P"
      },
      "source": [
        "## Model"
      ]
    },
    {
      "cell_type": "code",
      "metadata": {
        "colab": {
          "base_uri": "https://localhost:8080/"
        },
        "id": "vFrxhNF-SQoZ",
        "outputId": "84737454-756e-4b12-896e-e7a6cab67638"
      },
      "source": [
        "df = df.select('text','Label')\n",
        "df.show(5)"
      ],
      "execution_count": 15,
      "outputs": [
        {
          "output_type": "stream",
          "name": "stdout",
          "text": [
            "+--------------------+-----+\n",
            "|                text|Label|\n",
            "+--------------------+-----+\n",
            "|WASHINGTON (Reute...| True|\n",
            "|WASHINGTON (Reute...| True|\n",
            "|WASHINGTON (Reute...| True|\n",
            "|WASHINGTON (Reute...| True|\n",
            "|SEATTLE/WASHINGTO...| True|\n",
            "+--------------------+-----+\n",
            "only showing top 5 rows\n",
            "\n"
          ]
        }
      ]
    },
    {
      "cell_type": "code",
      "metadata": {
        "id": "RBVS1B1FKkoa"
      },
      "source": [
        "from pyspark.ml.feature import Tokenizer,StopWordsRemover,CountVectorizer,IDF\n",
        "from pyspark.ml.feature import StringIndexer"
      ],
      "execution_count": 16,
      "outputs": []
    },
    {
      "cell_type": "code",
      "metadata": {
        "id": "-4oaxP5XMUak"
      },
      "source": [
        "tokenizer = Tokenizer(inputCol='text',outputCol='mytokens')\n",
        "stopwords_remover = StopWordsRemover(inputCol='mytokens',outputCol='filtered_tokens')\n",
        "vectorizer = CountVectorizer(inputCol='filtered_tokens',outputCol='rawFeatures')\n",
        "idf = IDF(inputCol='rawFeatures',outputCol='vectorizedFeatures')"
      ],
      "execution_count": 17,
      "outputs": []
    },
    {
      "cell_type": "code",
      "metadata": {
        "id": "Er8a33vhNfTz"
      },
      "source": [
        "labelEncoder = StringIndexer(inputCol='Label',outputCol='label').fit(df)\n",
        "labelEncoder.transform(df).show(5)\n",
        "label_dict = {\"True\":1.0,\"False\":0.0}"
      ],
      "execution_count": null,
      "outputs": []
    },
    {
      "cell_type": "code",
      "metadata": {
        "id": "TeoSHRUqNi8J"
      },
      "source": [
        "df = labelEncoder.transform(df)"
      ],
      "execution_count": 19,
      "outputs": []
    },
    {
      "cell_type": "code",
      "metadata": {
        "id": "Q2irjPHVO1-8"
      },
      "source": [
        "trainDF,testDF = df.randomSplit((0.7,0.3),seed=42)"
      ],
      "execution_count": 20,
      "outputs": []
    },
    {
      "cell_type": "code",
      "metadata": {
        "id": "MeIKQJLLTR3-"
      },
      "source": [
        "from pyspark.ml.classification import LogisticRegression"
      ],
      "execution_count": 21,
      "outputs": []
    },
    {
      "cell_type": "code",
      "metadata": {
        "id": "NpLGCGwpTUCj"
      },
      "source": [
        "lr = LogisticRegression(featuresCol='vectorizedFeatures',labelCol='label')"
      ],
      "execution_count": 22,
      "outputs": []
    },
    {
      "cell_type": "code",
      "metadata": {
        "id": "DP3y2lOqTWbk"
      },
      "source": [
        "from pyspark.ml import Pipeline"
      ],
      "execution_count": 23,
      "outputs": []
    },
    {
      "cell_type": "code",
      "metadata": {
        "id": "MFPUaYKFTZNG"
      },
      "source": [
        "pipeline = Pipeline(stages=[tokenizer,stopwords_remover,vectorizer,idf,lr])"
      ],
      "execution_count": 24,
      "outputs": []
    },
    {
      "cell_type": "code",
      "metadata": {
        "id": "yc0j0_mrTg3Y"
      },
      "source": [
        "lr_model = pipeline.fit(trainDF)"
      ],
      "execution_count": 25,
      "outputs": []
    },
    {
      "cell_type": "code",
      "metadata": {
        "colab": {
          "base_uri": "https://localhost:8080/"
        },
        "id": "qnTwRi7FTjz5",
        "outputId": "9887663b-f54a-47e7-d830-8ecf9ce9ca26"
      },
      "source": [
        "predictions = lr_model.transform(testDF)\n",
        "predictions.show()"
      ],
      "execution_count": 29,
      "outputs": [
        {
          "output_type": "stream",
          "name": "stdout",
          "text": [
            "+--------------------+-----+--------------------+--------------------+--------------------+--------------------+--------------------+--------------------+----------+\n",
            "|                text|label|            mytokens|     filtered_tokens|         rawFeatures|  vectorizedFeatures|       rawPrediction|         probability|prediction|\n",
            "+--------------------+-----+--------------------+--------------------+--------------------+--------------------+--------------------+--------------------+----------+\n",
            "| ((This December ...|  1.0|[, ((this, decemb...|[, ((this, decemb...|(262144,[0,1,3,4,...|(262144,[0,1,3,4,...|[-55.063478500804...|[1.21964975450048...|       1.0|\n",
            "| (Corrects Comey ...|  1.0|[, (corrects, com...|[, (corrects, com...|(262144,[0,1,2,3,...|(262144,[0,1,2,3,...|[-56.355976599189...|[3.34896293297034...|       1.0|\n",
            "| (Corrects Feb. 2...|  1.0|[, (corrects, feb...|[, (corrects, feb...|(262144,[0,1,2,3,...|(262144,[0,1,2,3,...|[-69.085824949656...|[9.91761960331462...|       1.0|\n",
            "| (Corrects first ...|  1.0|[, (corrects, fir...|[, (corrects, fir...|(262144,[0,2,7,9,...|(262144,[0,2,7,9,...|[-42.859971228055...|[2.43304981625752...|       1.0|\n",
            "| (Corrects paragr...|  1.0|[, (corrects, par...|[, (corrects, par...|(262144,[0,1,2,3,...|(262144,[0,1,2,3,...|[-66.318774870528...|[1.57805460585955...|       1.0|\n",
            "| (Corrects spelli...|  1.0|[, (corrects, spe...|[, (corrects, spe...|(262144,[0,1,2,4,...|(262144,[0,1,2,4,...|[-41.145723618786...|[1.35095000869471...|       1.0|\n",
            "| (Corrects this A...|  1.0|[, (corrects, thi...|[, (corrects, aug...|(262144,[0,1,2,3,...|(262144,[0,1,2,3,...|[-78.081221278710...|[1.22957905989956...|       1.0|\n",
            "| (Editors Note: A...|  1.0|[, (editors, note...|[, (editors, note...|(262144,[0,1,2,5,...|(262144,[0,1,2,5,...|[-48.305414167984...|[1.05008675534133...|       1.0|\n",
            "| (Editors note: A...|  1.0|[, (editors, note...|[, (editors, note...|(262144,[0,1,2,3,...|(262144,[0,1,2,3,...|[-54.555697677377...|[2.02656968725136...|       1.0|\n",
            "| (Editor’s note: ...|  1.0|[, (editor’s, not...|[, (editor’s, not...|(262144,[0,2,4,5,...|(262144,[0,2,4,5,...|[-52.629433614222...|[1.39100085087378...|       1.0|\n",
            "| (Editor’s note: ...|  1.0|[, (editor’s, not...|[, (editor’s, not...|(262144,[0,1,2,3,...|(262144,[0,1,2,3,...|[-16.511104132041...|[6.75022977069834...|       1.0|\n",
            "| (In Dec. 25 stor...|  1.0|[, (in, dec., 25,...|[, (in, dec., 25,...|(262144,[0,1,2,3,...|(262144,[0,1,2,3,...|[-47.243329307175...|[3.03726562652913...|       1.0|\n",
            "| (In March 13 ite...|  1.0|[, (in, march, 13...|[, (in, march, 13...|(262144,[0,1,2,3,...|(262144,[0,1,2,3,...|[-112.96851745032...|[8.67753237251570...|       1.0|\n",
            "| (In March 16 ite...|  1.0|[, (in, march, 16...|[, (in, march, 16...|(262144,[0,2,5,7,...|(262144,[0,2,5,7,...|[-52.510343045800...|[1.56692342209384...|       1.0|\n",
            "| (In this Dec. 13...|  1.0|[, (in, this, dec...|[, (in, dec., 13,...|(262144,[0,1,2,5,...|(262144,[0,1,2,5,...|[-48.937491863358...|[5.58106814835679...|       1.0|\n",
            "| (In this Februar...|  1.0|[, (in, this, feb...|[, (in, february,...|(262144,[0,1,2,3,...|(262144,[0,1,2,3,...|[-28.435122066618...|[4.47490061393527...|       1.0|\n",
            "| (In this Jan. 30...|  1.0|[, (in, this, jan...|[, (in, jan., 30,...|(262144,[0,1,2,3,...|(262144,[0,1,2,3,...|[-88.343038404267...|[4.29641185704422...|       1.0|\n",
            "| (In this Oct. 13...|  1.0|[, (in, this, oct...|[, (in, oct., 13,...|(262144,[0,1,2,6,...|(262144,[0,1,2,6,...|[-38.685218595078...|[1.58206030141165...|       1.0|\n",
            "| (Please note str...|  1.0|[, (please, note,...|[, (please, note,...|(262144,[0,1,2,3,...|(262144,[0,1,2,3,...|[-36.288264711879...|[1.73862883381210...|       1.0|\n",
            "| (Please note: St...|  1.0|[, (please, note:...|[, (please, note:...|(262144,[0,1,2,3,...|(262144,[0,1,2,3,...|[-33.361581866348...|[3.24525694410074...|       1.0|\n",
            "+--------------------+-----+--------------------+--------------------+--------------------+--------------------+--------------------+--------------------+----------+\n",
            "only showing top 20 rows\n",
            "\n"
          ]
        }
      ]
    },
    {
      "cell_type": "code",
      "metadata": {
        "id": "E-heJEM4UDSR"
      },
      "source": [
        "from pyspark.ml.evaluation import MulticlassClassificationEvaluator"
      ],
      "execution_count": 30,
      "outputs": []
    },
    {
      "cell_type": "code",
      "metadata": {
        "id": "6PLNvpEvUDOe"
      },
      "source": [
        "evaluator = MulticlassClassificationEvaluator(labelCol='label',predictionCol='prediction',metricName='accuracy')"
      ],
      "execution_count": 31,
      "outputs": []
    },
    {
      "cell_type": "code",
      "metadata": {
        "colab": {
          "base_uri": "https://localhost:8080/"
        },
        "id": "3lMF1u3DUDKh",
        "outputId": "64ab99fc-20fe-45b6-f8ac-2cac8695086e"
      },
      "source": [
        "accuracy = evaluator.evaluate(predictions)\n",
        "accuracy"
      ],
      "execution_count": 32,
      "outputs": [
        {
          "output_type": "execute_result",
          "data": {
            "text/plain": [
              "0.9888983774551665"
            ]
          },
          "metadata": {},
          "execution_count": 32
        }
      ]
    },
    {
      "cell_type": "code",
      "metadata": {
        "id": "cQ-DOQybUDGn"
      },
      "source": [
        ""
      ],
      "execution_count": null,
      "outputs": []
    },
    {
      "cell_type": "code",
      "metadata": {
        "id": "HEOXSXQ0UDBv"
      },
      "source": [
        ""
      ],
      "execution_count": null,
      "outputs": []
    },
    {
      "cell_type": "code",
      "metadata": {
        "id": "1WRF3T7YUC-i"
      },
      "source": [
        ""
      ],
      "execution_count": null,
      "outputs": []
    },
    {
      "cell_type": "code",
      "metadata": {
        "id": "pmAbNB5iUCzU"
      },
      "source": [
        ""
      ],
      "execution_count": null,
      "outputs": []
    }
  ]
}